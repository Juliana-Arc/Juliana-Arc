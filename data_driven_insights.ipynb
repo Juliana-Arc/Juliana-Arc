{
  "nbformat": 4,
  "nbformat_minor": 0,
  "metadata": {
    "colab": {
      "provenance": [],
      "authorship_tag": "ABX9TyPNH4zY1Clhh68U8/PlCwCi",
      "include_colab_link": true
    },
    "kernelspec": {
      "name": "python3",
      "display_name": "Python 3"
    },
    "language_info": {
      "name": "python"
    }
  },
  "cells": [
    {
      "cell_type": "markdown",
      "metadata": {
        "id": "view-in-github",
        "colab_type": "text"
      },
      "source": [
        "<a href=\"https://colab.research.google.com/github/Juliana-Arc/Mini-Projeto-Orientado-a-Dados/blob/main/data_driven_insights.ipynb\" target=\"_parent\"><img src=\"https://colab.research.google.com/assets/colab-badge.svg\" alt=\"Open In Colab\"/></a>"
      ]
    },
    {
      "cell_type": "code",
      "execution_count": null,
      "metadata": {
        "id": "vABhUurpNvbH"
      },
      "outputs": [],
      "source": [
        "#importação de bibliotecas\n",
        "import pandas as pd\n",
        "import numpy as np\n",
        "import matplotlib.pyplot as plt"
      ]
    },
    {
      "cell_type": "code",
      "source": [
        "#upload do arquivo\n",
        "from google.colab import files\n",
        "uploaded = files.upload()"
      ],
      "metadata": {
        "id": "9q1Wifs7eYlV"
      },
      "execution_count": null,
      "outputs": []
    },
    {
      "cell_type": "code",
      "source": [
        "#Leitura da base\n",
        "df = pd.read_csv('sales_data_sample.csv', encoding='latin1')"
      ],
      "metadata": {
        "id": "8aBXG9OpOfCr"
      },
      "execution_count": null,
      "outputs": []
    },
    {
      "cell_type": "code",
      "source": [
        "#Vizualiza as 5 primeiras linhas\n",
        "print(df.head(5))"
      ],
      "metadata": {
        "id": "Uv5BK2hnezOx"
      },
      "execution_count": null,
      "outputs": []
    },
    {
      "cell_type": "code",
      "source": [
        "# Mostra formato dos dados\n",
        "print(df.shape)"
      ],
      "metadata": {
        "colab": {
          "base_uri": "https://localhost:8080/"
        },
        "id": "C7c0DmfpPJ3a",
        "outputId": "5a9b27e5-65cb-4184-cadc-5da5a7009c49"
      },
      "execution_count": null,
      "outputs": [
        {
          "output_type": "stream",
          "name": "stdout",
          "text": [
            "(2823, 25)\n"
          ]
        }
      ]
    },
    {
      "cell_type": "code",
      "source": [
        "# Mostra o nome das colunas\n",
        "\n",
        "for col in df.columns:\n",
        "  print(col)"
      ],
      "metadata": {
        "id": "FYpYTHx1PPFk"
      },
      "execution_count": null,
      "outputs": []
    },
    {
      "cell_type": "code",
      "source": [
        "#Mostra o tipo das colunas (int - float - object)\n",
        "print(df.dtypes)"
      ],
      "metadata": {
        "id": "6uKq9xSyPRot"
      },
      "execution_count": null,
      "outputs": []
    },
    {
      "cell_type": "code",
      "source": [
        "# Lista com os dados da coluna com os 5 primeiros valores.\n",
        "\n",
        "nomes = list(df['PRODUCTLINE'])\n",
        "for nome in nomes[:5]:\n",
        "    print(nome)\n",
        "\n",
        "# Dicionário: Seleciona os 4 primeiros valores das colunas descritas. Chave e valor, exemplo (nome:categoria)\n",
        "dicionario = dict(zip(df['PRODUCTLINE'][:4], df['CUSTOMERNAME'][:4]))\n",
        "print(dicionario)\n",
        "\n",
        "\n",
        "# Tupla: Seleciona informações de uma linha\n",
        "linha0 = df.iloc[3]\n",
        "minha_tupla = (linha0['PRODUCTLINE'], linha0['CUSTOMERNAME'], linha0['CITY'])\n",
        "print(minha_tupla)"
      ],
      "metadata": {
        "id": "7LbUXt_9PmtX"
      },
      "execution_count": null,
      "outputs": []
    },
    {
      "cell_type": "code",
      "source": [
        "# Seleciona o primeiro valor da coluna.\n",
        "coluna_numerica = 'SALES'\n",
        "primeiro_valor = df[coluna_numerica][0]\n",
        "\n",
        "# Verifica valor da variável de acordo com as condicionas descritas.\n",
        "\n",
        "if primeiro_valor > 5000:\n",
        "    print(\"Valor alto\")\n",
        "elif primeiro_valor > 2500:\n",
        "    print(\"Valor intermediário\")\n",
        "else:\n",
        "    print(\"Valor baixo\")\n",
        "\n",
        "# For para operar sobre n primeiros elementos de uma coluna numérica\n",
        "soma = 0\n",
        "lista = list(df[coluna_numerica][:5])\n",
        "for n in lista:\n",
        "    soma += n\n",
        "print(\"Soma dos 5 primeiros valores:\", soma)\n",
        "\n",
        "# While: Define valor maior que um certo limite.\n",
        "limite = 5000\n",
        "i = 0\n",
        "while i < len(lista) and lista[i] <= limite:\n",
        "    i += 1\n",
        "if i < len(lista):\n",
        "    print(\"Primeiro valor >\", limite, \"encontrado:\", lista[i])\n",
        "else:\n",
        "    print(\"Nenhum valor maior que\", limite, \"encontrado nos primeiros 5.\")"
      ],
      "metadata": {
        "id": "eI5UJkGlP-1u"
      },
      "execution_count": null,
      "outputs": []
    },
    {
      "cell_type": "code",
      "source": [
        "# Cria nova coluna exibindo a diferença entre elas.\n",
        "\n",
        "if 'QUANTITYORDERED' in df.columns and 'SALES' in df.columns:\n",
        "    df['Diferenca'] = df['SALES'] - df['QUANTITYORDERED']\n",
        "    print(df[['SALES', 'QUANTITYORDERED', 'Diferenca']].head())\n",
        "\n",
        "# Cria nova coluna aplicando desconto de 10% e exibe as 5 primeiras linhas das colunas.\n",
        "if 'SALES' in df.columns:\n",
        "    df['Desconto'] = df['SALES'] * 0.9\n",
        "    print(df[['SALES', 'Desconto']].head())"
      ],
      "metadata": {
        "id": "zCZr4dQmgKsJ"
      },
      "execution_count": null,
      "outputs": []
    },
    {
      "cell_type": "code",
      "source": [
        "import numpy as np\n",
        "import pandas as pd\n"
      ],
      "metadata": {
        "id": "oOYibstesUJ2"
      },
      "execution_count": null,
      "outputs": []
    },
    {
      "cell_type": "code",
      "source": [
        "array = np.array(df['SALES'].values)\n",
        "\n",
        "\n",
        "# Operações NumPy - Soma e Elevação ao quadrado do array.\n",
        "array_somado = array + 10\n",
        "array_quadrado = array ** 2\n",
        "\n",
        "print(array[:5])\n",
        "print(array_somado[:5])\n",
        "print(array_quadrado[:5])\n",
        "\n",
        "print(\"Soma dos elementos:\", array.sum())\n",
        "print(\"Média dos elementos:\", array.mean())"
      ],
      "metadata": {
        "id": "iooJQk6wgNLE"
      },
      "execution_count": null,
      "outputs": []
    },
    {
      "cell_type": "code",
      "source": [
        "\n",
        "# Operações  - Agrupamentos\n",
        "vendas_ano = df.groupby(\"YEAR_ID\")[\"SALES\"].sum()\n",
        "print(\"Vendas por ano:\\n\", vendas_ano)\n",
        "\n",
        "vendas_produto = df.groupby(\"PRODUCTLINE\")[\"SALES\"].sum()\n",
        "print(\"Vendas por produto:\\n\", vendas_produto)"
      ],
      "metadata": {
        "id": "A2Q9D-XagQGC"
      },
      "execution_count": null,
      "outputs": []
    },
    {
      "cell_type": "code",
      "source": [
        "# Gráfico de Linha (ex: evolução temporal; use 'Data' se houver)\n",
        "if 'ORDERDATE' in df.columns and 'SALES' in df.columns:\n",
        "    df.groupby('ORDERDATE')['SALES'].sum().plot(kind='line')\n",
        "    plt.title('Evolução Vendas por Data')\n",
        "    plt.xlabel('Data')\n",
        "    plt.ylabel('Total de Vendas')\n",
        "    plt.show()"
      ],
      "metadata": {
        "id": "_ds2s4qa2wSl"
      },
      "execution_count": null,
      "outputs": []
    },
    {
      "cell_type": "code",
      "source": [
        "\n",
        "# Gráfico de Barras (categorias)\n",
        "if 'PRODUCTLINE' in df.columns and 'ORDERDATE' in df.columns:\n",
        "    df.groupby('PRODUCTLINE')['ORDERDATE'].count().plot(kind='bar')\n",
        "    plt.title('Total por categoria Mensal')\n",
        "    plt.xlabel('Linha do Produto')\n",
        "    plt.ylabel('Número de Pedidos')\n",
        "    plt.show()"
      ],
      "metadata": {
        "id": "lAVtVuGW2zcY"
      },
      "execution_count": null,
      "outputs": []
    },
    {
      "cell_type": "code",
      "source": [
        "# Gráfico de Dispersão (duas numéricas)\n",
        "if 'QUANTITYORDERED' in df.columns and 'PRICEEACH' in df.columns:\n",
        "    plt.scatter(df['QUANTITYORDERED'], df['PRICEEACH'])\n",
        "    plt.title('Quantidade pro preço unit')\n",
        "    plt.xlabel('Quantidade')\n",
        "    plt.ylabel('Preço Unitário')\n",
        "    plt.show()"
      ],
      "metadata": {
        "id": "dL4ks2hugYPQ"
      },
      "execution_count": null,
      "outputs": []
    },
    {
      "cell_type": "markdown",
      "source": [],
      "metadata": {
        "id": "g5_XzsyihYHS"
      }
    },
    {
      "cell_type": "markdown",
      "source": [
        "Mini Projeto Orientado Data-Driven Insights - Análises de dados de Vendas, com base na seguinte fonte: https://www.kaggle.com/datasets/kyanyoga/sample-sales-data?resource=download.\n",
        "\n",
        "Os dados estão na base sales_data_sample.csv. A análise foi feita com Pyton, utilizando as bibliotecas Pandas, Numpy e Matplotlib.\n",
        "\n",
        "\n",
        "\n"
      ],
      "metadata": {
        "id": "1zV60In8fk_X"
      }
    }
  ]
}